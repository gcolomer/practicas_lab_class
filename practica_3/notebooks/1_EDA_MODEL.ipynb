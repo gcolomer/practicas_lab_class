{
 "cells": [
  {
   "cell_type": "markdown",
   "id": "bd1b84fe",
   "metadata": {},
   "source": [
    "# Practice III Machine Learning\n",
    "# <font color='Red'>Notebook II, model development</font>\n",
    "## `Masters Degree in Data Science`\n",
    "# <font color='orange'>CUNEF</font>\n",
    "## By Gabriela Gutiérrez-Colomer Santos: g.gutierrezcolomer@cunef.edu\n",
    "### The objective of the following notebook is to develop a prediction model that will classify a restaurant to be `top_experience` (a restaurant that has overall good reviews) or `not_top_experience`(a restaurant that does not have overall good reviews). \n",
    "\n",
    "# Index\n",
    "<ol style=\"font-size:18px; font-family: Arial\">\n",
    "  <li>Cleaning the Data.</li>\n",
    "    <span style=\"color: red\">In this section null values will be treated.</span>\n",
    "  <li>Understanding the variables.</li>\n",
    "    <span style=\"color: red\">In this section the variables will be studied in case there is any important relationship we must take into account.</span>\n",
    "  <li>Model Design.</li>\n",
    "    <span style=\"color: red\">The model chosen is a LinearSVM. We will be classifying business as top_experience or not_experience depending on the reviews.</span>\n",
    "  <li>Model Results.</li>\n",
    "    <span style=\"color: red\">This is the part where results are discussed.</span>\n",
    "</ol>"
   ]
  },
  {
   "cell_type": "code",
   "execution_count": 1,
   "id": "aac4c980",
   "metadata": {},
   "outputs": [],
   "source": [
    "%%capture\n",
    "%run 0_EDA.ipynb #import the notebook"
   ]
  },
  {
   "cell_type": "markdown",
   "id": "33caaf58",
   "metadata": {},
   "source": [
    "## 1. Cleaning the data"
   ]
  },
  {
   "cell_type": "code",
   "execution_count": 2,
   "id": "7402d7d4",
   "metadata": {},
   "outputs": [],
   "source": [
    "def get_corr_matrix(dataset = None, metodo='pearson', size_figure=[10,8]):\n",
    "    # To obtain spearman's correlation change pearson by spearman 'spearman'\n",
    "\n",
    "    if dataset is None:\n",
    "        print(u'\\nHace falta pasar un dataset a la función')\n",
    "    # Compute the correlation matrix\n",
    "    corr = dataset.corr(method=metodo)\n",
    "    # Set self-correlation to zero to avoid distraction\n",
    "    for i in range(corr.shape[0]):\n",
    "        corr.iloc[i, i] = 0\n",
    "    # Set up the matplotlib figure\n",
    "    f, ax = plt.subplots(figsize=size_figure)\n",
    "    # Draw the heatmap with the mask and correct aspect ratio\n",
    "    sns.heatmap(corr, center=0,\n",
    "                square=True, linewidths=.5,  cmap ='viridis', ax = ax )#cbar_kws={\"shrink\": .5}\n",
    "    ax.set_title('Matriz de Correlación')\n",
    "    plt.show()"
   ]
  },
  {
   "cell_type": "code",
   "execution_count": 3,
   "id": "38aebfec",
   "metadata": {},
   "outputs": [],
   "source": [
    "df = restaurant_reviews_pen\n",
    "#we will be using this dataset "
   ]
  },
  {
   "cell_type": "code",
   "execution_count": 4,
   "id": "080df347",
   "metadata": {},
   "outputs": [
    {
     "name": "stdout",
     "output_type": "stream",
     "text": [
      "(125605, 36)\n"
     ]
    }
   ],
   "source": [
    "print(df.shape)"
   ]
  },
  {
   "cell_type": "code",
   "execution_count": 5,
   "id": "0d608955",
   "metadata": {},
   "outputs": [
    {
     "data": {
      "text/plain": [
       "BusinessAcceptsCreditCards     object\n",
       "RestaurantsPriceRange2         object\n",
       "Monday                         object\n",
       "Tuesday                        object\n",
       "Wednesday                      object\n",
       "Thursday                       object\n",
       "Friday                         object\n",
       "Saturday                       object\n",
       "Sunday                         object\n",
       "business_id                    object\n",
       "name                           object\n",
       "address                        object\n",
       "city                           object\n",
       "state                          object\n",
       "postal_code                    object\n",
       "latitude                      float64\n",
       "longitude                     float64\n",
       "stars                         float64\n",
       "review_count                    int64\n",
       "is_open                         int64\n",
       "category_1                     object\n",
       "category_2                     object\n",
       "category_3                     object\n",
       "category_4                     object\n",
       "category_5                     object\n",
       "category_6                     object\n",
       "category_7                     object\n",
       "category_8                     object\n",
       "category_9                     object\n",
       "category_10                    object\n",
       "user_id                        object\n",
       "review_stars                    int64\n",
       "text                           object\n",
       "date                           object\n",
       "text_clear                     object\n",
       "senti_polarity                float64\n",
       "dtype: object"
      ]
     },
     "execution_count": 5,
     "metadata": {},
     "output_type": "execute_result"
    }
   ],
   "source": [
    "df.dtypes"
   ]
  },
  {
   "cell_type": "code",
   "execution_count": 6,
   "id": "9d4ef7b1",
   "metadata": {},
   "outputs": [],
   "source": [
    "non_viable_variables = ['text_clear','date']\n",
    "df=df.drop(non_viable_variables, axis=1)\n",
    "#dropping the variables that will not be used "
   ]
  },
  {
   "cell_type": "code",
   "execution_count": 7,
   "id": "dc9a0bfb",
   "metadata": {},
   "outputs": [
    {
     "data": {
      "text/plain": [
       "BusinessAcceptsCreditCards      3763\n",
       "RestaurantsPriceRange2          7390\n",
       "Monday                         22450\n",
       "Tuesday                        16541\n",
       "Wednesday                       5991\n",
       "Thursday                        3961\n",
       "Friday                          3632\n",
       "Saturday                        4277\n",
       "Sunday                         15557\n",
       "business_id                        0\n",
       "name                               0\n",
       "address                            0\n",
       "city                               0\n",
       "state                              0\n",
       "postal_code                        0\n",
       "latitude                           0\n",
       "longitude                          0\n",
       "stars                              0\n",
       "review_count                       0\n",
       "is_open                            0\n",
       "category_1                         0\n",
       "category_2                        11\n",
       "category_3                     13813\n",
       "category_4                     26086\n",
       "category_5                     48369\n",
       "category_6                     65917\n",
       "category_7                     85318\n",
       "category_8                     95102\n",
       "category_9                    107998\n",
       "category_10                   113011\n",
       "user_id                            0\n",
       "review_stars                       0\n",
       "text                               0\n",
       "senti_polarity                     0\n",
       "dtype: int64"
      ]
     },
     "execution_count": 7,
     "metadata": {},
     "output_type": "execute_result"
    }
   ],
   "source": [
    "df.isnull().sum()\n",
    "#lets see if there is any null value"
   ]
  },
  {
   "cell_type": "markdown",
   "id": "b7b79dd9",
   "metadata": {},
   "source": [
    "There seems to be a lot of null values in the dataset. In this case it would not be necessary to impute them since the columns we will use to predict are ``text`` and ``top_experience`` which have no null values. Even so, I will impute them as datasets with null values are not recommended. "
   ]
  },
  {
   "cell_type": "code",
   "execution_count": 8,
   "id": "9297450a",
   "metadata": {},
   "outputs": [
    {
     "data": {
      "text/html": [
       "<div>\n",
       "<style scoped>\n",
       "    .dataframe tbody tr th:only-of-type {\n",
       "        vertical-align: middle;\n",
       "    }\n",
       "\n",
       "    .dataframe tbody tr th {\n",
       "        vertical-align: top;\n",
       "    }\n",
       "\n",
       "    .dataframe thead th {\n",
       "        text-align: right;\n",
       "    }\n",
       "</style>\n",
       "<table border=\"1\" class=\"dataframe\">\n",
       "  <thead>\n",
       "    <tr style=\"text-align: right;\">\n",
       "      <th></th>\n",
       "      <th>index</th>\n",
       "      <th>percent</th>\n",
       "    </tr>\n",
       "  </thead>\n",
       "  <tbody>\n",
       "    <tr>\n",
       "      <th>0</th>\n",
       "      <td>True</td>\n",
       "      <td>94.533905</td>\n",
       "    </tr>\n",
       "    <tr>\n",
       "      <th>1</th>\n",
       "      <td>False</td>\n",
       "      <td>5.452964</td>\n",
       "    </tr>\n",
       "    <tr>\n",
       "      <th>2</th>\n",
       "      <td>None</td>\n",
       "      <td>0.013132</td>\n",
       "    </tr>\n",
       "  </tbody>\n",
       "</table>\n",
       "</div>"
      ],
      "text/plain": [
       "   index    percent\n",
       "0   True  94.533905\n",
       "1  False   5.452964\n",
       "2   None   0.013132"
      ]
     },
     "execution_count": 8,
     "metadata": {},
     "output_type": "execute_result"
    }
   ],
   "source": [
    "df_credit = df['BusinessAcceptsCreditCards'].value_counts(normalize=True)\\\n",
    ".mul(100).rename('percent').reset_index()\n",
    "df_credit"
   ]
  },
  {
   "cell_type": "code",
   "execution_count": 9,
   "id": "993590a1",
   "metadata": {},
   "outputs": [
    {
     "data": {
      "text/html": [
       "<div>\n",
       "<style scoped>\n",
       "    .dataframe tbody tr th:only-of-type {\n",
       "        vertical-align: middle;\n",
       "    }\n",
       "\n",
       "    .dataframe tbody tr th {\n",
       "        vertical-align: top;\n",
       "    }\n",
       "\n",
       "    .dataframe thead th {\n",
       "        text-align: right;\n",
       "    }\n",
       "</style>\n",
       "<table border=\"1\" class=\"dataframe\">\n",
       "  <thead>\n",
       "    <tr style=\"text-align: right;\">\n",
       "      <th></th>\n",
       "      <th>index</th>\n",
       "      <th>percent</th>\n",
       "    </tr>\n",
       "  </thead>\n",
       "  <tbody>\n",
       "    <tr>\n",
       "      <th>0</th>\n",
       "      <td>2</td>\n",
       "      <td>68.948949</td>\n",
       "    </tr>\n",
       "    <tr>\n",
       "      <th>1</th>\n",
       "      <td>1</td>\n",
       "      <td>23.208561</td>\n",
       "    </tr>\n",
       "    <tr>\n",
       "      <th>2</th>\n",
       "      <td>3</td>\n",
       "      <td>6.866303</td>\n",
       "    </tr>\n",
       "    <tr>\n",
       "      <th>3</th>\n",
       "      <td>4</td>\n",
       "      <td>0.976187</td>\n",
       "    </tr>\n",
       "  </tbody>\n",
       "</table>\n",
       "</div>"
      ],
      "text/plain": [
       "  index    percent\n",
       "0     2  68.948949\n",
       "1     1  23.208561\n",
       "2     3   6.866303\n",
       "3     4   0.976187"
      ]
     },
     "execution_count": 9,
     "metadata": {},
     "output_type": "execute_result"
    }
   ],
   "source": [
    "df_price = df['RestaurantsPriceRange2'].value_counts(normalize=True)\\\n",
    ".mul(100).rename('percent').reset_index()\n",
    "df_price"
   ]
  },
  {
   "cell_type": "code",
   "execution_count": 10,
   "id": "fdd0b40a",
   "metadata": {},
   "outputs": [],
   "source": [
    "import pandas as pd\n",
    "\n",
    "# List of column names\n",
    "column_names = ['Monday', 'Tuesday', 'Wednesday', 'Thursday', 'Friday', 'Saturday', 'Sunday']\n",
    "\n",
    "# Replace null values with 0 for each column\n",
    "for column in column_names:\n",
    "    df[column].fillna(0, inplace=True)"
   ]
  },
  {
   "cell_type": "code",
   "execution_count": 11,
   "id": "c3655668",
   "metadata": {},
   "outputs": [],
   "source": [
    "df[\"BusinessAcceptsCreditCards\"].fillna(\"True\", inplace=True)\n",
    "df[\"RestaurantsPriceRange2\"].fillna(\"2\", inplace=True)"
   ]
  },
  {
   "cell_type": "code",
   "execution_count": 12,
   "id": "c3e91dd0",
   "metadata": {},
   "outputs": [],
   "source": [
    "# Dictionary with column names and values to fill null values with\n",
    "fill_values = {\n",
    "    'category_1': 'Empty',\n",
    "    'category_2': 'Empty',\n",
    "    'category_3': 'Empty',\n",
    "    'category_4': 'Empty',\n",
    "    'category_5': 'Empty',\n",
    "    'category_6': 'Empty',\n",
    "    'category_7': 'Empty',\n",
    "    'category_8': 'Empty',\n",
    "    'category_9': 'Empty',\n",
    "    'category_10': 'Empty'\n",
    "}\n",
    "\n",
    "# Replace null values with values from the fill_values dictionary\n",
    "df.fillna(fill_values, inplace=True)"
   ]
  },
  {
   "cell_type": "markdown",
   "id": "11ace06a",
   "metadata": {},
   "source": [
    "## 2. Understanding the variables\n",
    "We do have loads of variables in this dataset. For this model, we will be focusing on two: ``text`` and ``top_experience``. As we will work with a NLP algorithm we need a varaible to be text like so the model can analize the words and decide wether the restaurant will give a top experience or not. \n",
    "However, lets understand the other variables to be completely sure of what we are doing. \n",
    "- **latitude:** is a continous variable that indicates a latitude coordinate. \n",
    "- **longitude:** is a continous variable that indicated a logitud coordinte. \n",
    "- **stars:** the number of starts each customer has given the business when doing the review. \n",
    "- **review_count:** how many reviews has that business. \n",
    "- **review_stars:** the number of starts each customer has given the business when doing the review. \n",
    "- **senti_polarity:** column that shows the positivity, negativity or neutral of the business, if the senti_polarity if bigger than 0 then is positive, lowe than 0 negative and 0 neutral. "
   ]
  },
  {
   "cell_type": "code",
   "execution_count": 13,
   "id": "6a5167fe",
   "metadata": {},
   "outputs": [],
   "source": [
    "list_var_continuous = [\"latitude\", \"longitude\", \"stars\", \"review_count\", \n",
    "    \"review_stars\", \"senti_polarity\"]"
   ]
  },
  {
   "cell_type": "code",
   "execution_count": 14,
   "id": "8b08b2db",
   "metadata": {},
   "outputs": [
    {
     "data": {
      "image/png": "[encoded data removed]",
      "text/plain": [
       "<Figure size 3000x1000 with 2 Axes>"
      ]
     },
     "metadata": {},
     "output_type": "display_data"
    }
   ],
   "source": [
    "get_corr_matrix(dataset = df[list_var_continuous], metodo='pearson', size_figure=[30,10])"
   ]
  },
  {
   "cell_type": "markdown",
   "id": "425b67c7",
   "metadata": {},
   "source": [
    "The continous variables appear to be very low correlated exept for the `review_stars` and the `senti_polarity` columns that have a correlation of 0.6."
   ]
  },
  {
   "cell_type": "code",
   "execution_count": 15,
   "id": "fd061c23",
   "metadata": {},
   "outputs": [
    {
     "data": {
      "text/plain": [
       "Index(['BusinessAcceptsCreditCards', 'RestaurantsPriceRange2', 'Monday',\n",
       "       'Tuesday', 'Wednesday', 'Thursday', 'Friday', 'Saturday', 'Sunday',\n",
       "       'business_id', 'name', 'address', 'city', 'state', 'postal_code',\n",
       "       'latitude', 'longitude', 'stars', 'review_count', 'is_open',\n",
       "       'category_1', 'category_2', 'category_3', 'category_4', 'category_5',\n",
       "       'category_6', 'category_7', 'category_8', 'category_9', 'category_10',\n",
       "       'user_id', 'review_stars', 'text', 'senti_polarity'],\n",
       "      dtype='object')"
      ]
     },
     "execution_count": 15,
     "metadata": {},
     "output_type": "execute_result"
    }
   ],
   "source": [
    "df.columns"
   ]
  },
  {
   "cell_type": "code",
   "execution_count": 16,
   "id": "1b459d03",
   "metadata": {},
   "outputs": [
    {
     "data": {
      "text/plain": [
       "5    55768\n",
       "4    30130\n",
       "1    15498\n",
       "3    13985\n",
       "2    10224\n",
       "Name: review_stars, dtype: int64"
      ]
     },
     "execution_count": 16,
     "metadata": {},
     "output_type": "execute_result"
    }
   ],
   "source": [
    "df[\"review_stars\"].value_counts()"
   ]
  },
  {
   "cell_type": "markdown",
   "id": "2e678563",
   "metadata": {},
   "source": [
    "## 3. Model Design\n",
    "Lets understand the model. \n",
    "1. We will be predicting wether a restaurant belongs to the class top_experience or not so there are two possible classes here: 0: not_top_experience, 1: top_experience. \n",
    "\n",
    "Understanding how customers would like their recommendations, we almost always prefer to go to top restaurants or at least to restaurants where the food will be good. The aim of the model is, regarding the reviews, decide whether the restaurant is a top experience restaurant or not. \n",
    "\n",
    "- The independent variable X: is the column ``text``. \n",
    "- The dependent variable y: is the column ``top_experience``. "
   ]
  },
  {
   "cell_type": "code",
   "execution_count": 17,
   "id": "6288b21f",
   "metadata": {},
   "outputs": [],
   "source": [
    "df['top_experience'] = df['review_stars'].apply(lambda x: 1 if x >= 4 else 0)\n",
    "#lets create a column where the 4 or 5 star restaurants have the top_experience as 1 the others have a 0."
   ]
  },
  {
   "cell_type": "code",
   "execution_count": 18,
   "id": "4b85a84b",
   "metadata": {},
   "outputs": [
    {
     "data": {
      "image/png": "[encoded data removed]",
      "text/plain": [
       "<Figure size 1500x1000 with 1 Axes>"
      ]
     },
     "metadata": {},
     "output_type": "display_data"
    }
   ],
   "source": [
    "import matplotlib.pyplot as plt\n",
    "\n",
    "# Set figure size\n",
    "plt.figure(figsize=(15,10))\n",
    "\n",
    "# Plot pie chart\n",
    "labels = 'top_experience = YES', 'top_experience = NO'\n",
    "sizes = df[\"top_experience\"].value_counts()\n",
    "colors = ['lightpink', 'yellowgreen']\n",
    "plt.pie(sizes, labels=labels, colors=colors, autopct='%1.1f%%')\n",
    "plt.axis('equal')\n",
    "\n",
    "# Show plot\n",
    "plt.show()\n"
   ]
  },
  {
   "cell_type": "markdown",
   "id": "6a3ffc48",
   "metadata": {},
   "source": [
    "There are more top_ experience restaurants than non_top_experience. "
   ]
  },
  {
   "cell_type": "code",
   "execution_count": 19,
   "id": "da077492",
   "metadata": {},
   "outputs": [],
   "source": [
    "from tqdm import tqdm_notebook as tqdm"
   ]
  },
  {
   "cell_type": "code",
   "execution_count": 20,
   "id": "f1b5a829",
   "metadata": {},
   "outputs": [
    {
     "name": "stderr",
     "output_type": "stream",
     "text": [
      "100%|████████████████████████████████| 125605/125605 [00:02<00:00, 61651.07it/s]\n"
     ]
    }
   ],
   "source": [
    "import time\n",
    "from tqdm import tqdm\n",
    "\n",
    "def get_clean_text(text):\n",
    "    # Function to clean the text\n",
    "    return text\n",
    "\n",
    "# Extract the text and star ratings from the dataframe\n",
    "texts = df['text'].apply(get_clean_text)\n",
    "stars = df['top_experience']\n",
    "\n",
    "# Initialize a progress bar\n",
    "pbar = tqdm(total=df.shape[0])\n",
    "\n",
    "# Iterate over the rows of the dataframe\n",
    "for index, row in df.iterrows():\n",
    "    pbar.update(1)\n",
    "\n",
    "# Close the progress bar\n",
    "pbar.close()"
   ]
  },
  {
   "cell_type": "code",
   "execution_count": 21,
   "id": "9e9c0dfe",
   "metadata": {},
   "outputs": [
    {
     "name": "stdout",
     "output_type": "stream",
     "text": [
      "CPU times: user 41.9 s, sys: 1.52 s, total: 43.5 s\n",
      "Wall time: 43.5 s\n"
     ]
    }
   ],
   "source": [
    "%%time\n",
    "# Estimated time: 29.8 s\n",
    "from sklearn.feature_extraction.text import TfidfVectorizer\n",
    "\n",
    "# This vectorizer breaks text into single words and bi-grams\n",
    "# and then calculates the TF-IDF representation\n",
    "vectorizer = TfidfVectorizer(ngram_range=(1,3))\n",
    "\n",
    "# the 'fit' builds up the vocabulary from all the reviews\n",
    "# while the 'transform' step turns each indivdual text into\n",
    "# a matrix of numbers.\n",
    "vectors = vectorizer.fit_transform(texts)"
   ]
  },
  {
   "cell_type": "markdown",
   "id": "3bb99288",
   "metadata": {},
   "source": [
    "### How does the algorithm work? \n",
    "**Everithing works around the TF-IDF.** \n",
    "\n",
    "TF-IDF (Term Frequency-Inverse Document Frequency) is a numerical representation of a document's content. It is widely used in natural language processing and information retrieval tasks. The goal of using TF-IDF is to give more weight to terms that are more important or relevant to the document, and less weight to terms that are less important or less relevant.\n",
    "\n",
    "To compute the TF-IDF representation of a document, you first need to determine the term frequency (TF) of each term in the document. The term frequency is simply **the number of times a term appears in the document**, normalized by the total number of terms in the document. This is done to ensure that longer documents do not have an unfairly high weight just because they have more terms.\n",
    "\n",
    "Next, you need to determine the inverse document frequency (IDF) of each term. The inverse document frequency is a measure of **how rare a term is across a set of documents**. It is calculated as the logarithm of the total number of documents in the set divided by the number of documents in the set that contain the term.\n",
    "\n",
    "Finally, the TF-IDF representation of a term in a document is simply the **product of its term frequency and its inverse document frequency**. This representation gives higher weight to terms that are both more frequent in the document and rare across the set of documents."
   ]
  },
  {
   "cell_type": "code",
   "execution_count": 22,
   "id": "7c43ae30",
   "metadata": {},
   "outputs": [],
   "source": [
    "from sklearn.model_selection import train_test_split\n",
    "X_train, X_test, y_train, y_test = train_test_split(vectors, \n",
    "stars, test_size=0.32, random_state=42, shuffle =False)"
   ]
  },
  {
   "cell_type": "markdown",
   "id": "6e3f22b6",
   "metadata": {},
   "source": [
    "### LinearSVC\n",
    "The LinearSVC class is an implementation of a linear SVM classifier. It is a type of linear classifier that seeks to find a hyperplane in feature space that maximally separates the positive and negative classes.\n",
    "\n",
    "![SVM](../images/svc.png)\n",
    "\n",
    "The fit method is used to train the classifier on the input data `X_train` and the corresponding target labels `y_train`. The input data X_train should be a matrix of shape (n_samples, n_features), where n_samples is the number of samples (i.e., data points) and n_features is the number of features (i.e., dimensions) in the data. The target labels y_train should be a vector of shape (n_samples,), containing the labels for each sample."
   ]
  },
  {
   "cell_type": "code",
   "execution_count": 23,
   "id": "978cb0aa",
   "metadata": {},
   "outputs": [
    {
     "name": "stdout",
     "output_type": "stream",
     "text": [
      "CPU times: user 2.85 s, sys: 78.6 ms, total: 2.93 s\n",
      "Wall time: 2.93 s\n"
     ]
    },
    {
     "data": {
      "text/plain": [
       "LinearSVC()"
      ]
     },
     "execution_count": 23,
     "metadata": {},
     "output_type": "execute_result"
    }
   ],
   "source": [
    "%%time\n",
    "from sklearn.svm import LinearSVC\n",
    "\n",
    "# initialise the SVM classifier\n",
    "classifier = LinearSVC()\n",
    "\n",
    "# train the classifier\n",
    "classifier.fit(X_train, y_train)"
   ]
  },
  {
   "cell_type": "code",
   "execution_count": 24,
   "id": "21149725",
   "metadata": {},
   "outputs": [
    {
     "name": "stdout",
     "output_type": "stream",
     "text": [
      "\n",
      "Actual Ratings(Stars): "
     ]
    },
    {
     "data": {
      "text/plain": [
       "85411    1\n",
       "85412    0\n",
       "85413    0\n",
       "85414    0\n",
       "85415    0\n",
       "Name: top_experience, dtype: int64"
      ]
     },
     "metadata": {},
     "output_type": "display_data"
    },
    {
     "name": "stdout",
     "output_type": "stream",
     "text": [
      "\n",
      "Predicted Ratings: [1 0 0 0 0]\n"
     ]
    }
   ],
   "source": [
    "preds = classifier.predict(X_test)\n",
    "print(\"\\nActual Ratings(Stars): \",end = \"\")\n",
    "display(y_test[:5])\n",
    "print(\"\\nPredicted Ratings: \",end = \"\")\n",
    "print(preds[:5])"
   ]
  },
  {
   "cell_type": "markdown",
   "id": "8aa25fae",
   "metadata": {},
   "source": [
    "## 4. Model Results "
   ]
  },
  {
   "cell_type": "code",
   "execution_count": 25,
   "id": "9a1b5a4b",
   "metadata": {},
   "outputs": [],
   "source": [
    "import numpy as np\n",
    "import pandas as pd\n",
    "from sklearn.metrics import accuracy_score, precision_score, recall_score, f1_score\n",
    "\n",
    "def compute_metrics(y_true, y_pred):\n",
    "    \"\"\"\n",
    "    Compute several evaluation metrics for a classification task and return them as a dataframe.\n",
    "    \n",
    "    Parameters:\n",
    "    - y_true: 1D array-like, true labels\n",
    "    - y_pred: 1D array-like, predicted labels\n",
    "    \n",
    "    Returns:\n",
    "    - metrics: DataFrame, metrics as columns\n",
    "    \"\"\"\n",
    "    \n",
    "    # Compute accuracy\n",
    "    accuracy = accuracy_score(y_true, y_pred)\n",
    "    \n",
    "    # Compute precision\n",
    "    precision = precision_score(y_true, y_pred, average='weighted')\n",
    "    \n",
    "    # Compute recall\n",
    "    recall = recall_score(y_true, y_pred, average='weighted')\n",
    "    \n",
    "    # Compute F1 score\n",
    "    f1 = f1_score(y_true, y_pred, average='weighted')\n",
    "    \n",
    "    \n",
    "    # Create a dataframe with the metrics\n",
    "    metrics = pd.DataFrame({\n",
    "        'Accuracy': accuracy,\n",
    "        'Precision': precision,\n",
    "        'Recall': recall,\n",
    "        'F1 Score': f1\n",
    "    }, index=[0])\n",
    "    \n",
    "    # Return the metrics\n",
    "    return metrics\n"
   ]
  },
  {
   "cell_type": "code",
   "execution_count": 26,
   "id": "e169c98c",
   "metadata": {},
   "outputs": [
    {
     "data": {
      "text/html": [
       "<div>\n",
       "<style scoped>\n",
       "    .dataframe tbody tr th:only-of-type {\n",
       "        vertical-align: middle;\n",
       "    }\n",
       "\n",
       "    .dataframe tbody tr th {\n",
       "        vertical-align: top;\n",
       "    }\n",
       "\n",
       "    .dataframe thead th {\n",
       "        text-align: right;\n",
       "    }\n",
       "</style>\n",
       "<table border=\"1\" class=\"dataframe\">\n",
       "  <thead>\n",
       "    <tr style=\"text-align: right;\">\n",
       "      <th></th>\n",
       "      <th>Accuracy</th>\n",
       "      <th>Precision</th>\n",
       "      <th>Recall</th>\n",
       "      <th>F1 Score</th>\n",
       "    </tr>\n",
       "  </thead>\n",
       "  <tbody>\n",
       "    <tr>\n",
       "      <th>0</th>\n",
       "      <td>0.921456</td>\n",
       "      <td>0.920898</td>\n",
       "      <td>0.921456</td>\n",
       "      <td>0.920606</td>\n",
       "    </tr>\n",
       "  </tbody>\n",
       "</table>\n",
       "</div>"
      ],
      "text/plain": [
       "   Accuracy  Precision    Recall  F1 Score\n",
       "0  0.921456   0.920898  0.921456  0.920606"
      ]
     },
     "execution_count": 26,
     "metadata": {},
     "output_type": "execute_result"
    }
   ],
   "source": [
    "compute_metrics(y_test, preds)\n",
    "#using the function to compute the metrics"
   ]
  },
  {
   "cell_type": "code",
   "execution_count": 27,
   "id": "37a6ebf1",
   "metadata": {},
   "outputs": [
    {
     "data": {
      "image/png": "[encoded data removed]",
      "text/plain": [
       "<Figure size 640x480 with 2 Axes>"
      ]
     },
     "metadata": {},
     "output_type": "display_data"
    }
   ],
   "source": [
    "import matplotlib.pyplot as plt\n",
    "import numpy as np\n",
    "from sklearn import metrics\n",
    "\n",
    "confusion_matrix = metrics.confusion_matrix(y_test, preds)\n",
    "\n",
    "# Normalize the confusion matrix\n",
    "confusion_matrix = confusion_matrix.astype('float') / confusion_matrix.sum(axis=1)[:, np.newaxis]\n",
    "\n",
    "cm_display = metrics.ConfusionMatrixDisplay(confusion_matrix=confusion_matrix,\n",
    "                                            display_labels=['0', '1'])\n",
    "\n",
    "cm_display.plot(cmap='Blues')\n",
    "plt.title(\"Confusion Matrix\", fontsize=16, fontweight='bold')\n",
    "\n",
    "plt.show()"
   ]
  },
  {
   "cell_type": "markdown",
   "id": "7f6bc77d",
   "metadata": {},
   "source": [
    "## The results of the prediction in the ``X_test`` set: \n",
    "\n",
    "**Accuracy:** It’s the ratio of the correctly labeled subjects to the whole pool of subjects in this case is $92.14\\%$ in the test set. Accuracy answers the following question: How many restaurants did we correctly label out of all the restaurants? \n",
    "\n",
    "Accuracy = $\\frac{TP+TN}{TP+FP+FN+TN}$\n",
    "\n",
    "**Sensitivity:** Recall or sensitivity is the ratio of the correctly labeled as top_experience by our program to all who are top_experience in reality. In this case $92.14\\%$ in the test set. Recall answers the following question: Of all the people who committed a fraud, how many of those we correctly predict? \n",
    "\n",
    "Recall = $\\frac{TP}{TP+FN}$\n",
    "\n",
    "**F1-score** considers both precision and recall. It is the harmonic mean (average) of the precision and recall. In this case for the test set $92.06\\%$. F1 Score is best if there is some sort of balance between precision (p) & recall (r) in the system. Oppositely F1 Score isn’t so high if one measure is improved at the expense of the other. For example, if P is 1 & R is 0, F1 score is 0. \n",
    "\n",
    "F1 Score = $\\frac{2*(Recall * Precision)}{Recall + Precision}$\n",
    "\n",
    "**Precision** or Positive Predictive Value is the ratio of the correctly labeled as fraud by our program to all fraud labeled. In this case we have for the test set a $92.08\\%$ precision value. Precision answers the following: How many of those who we labeled as fraud are actually fraud? \n",
    "\n",
    "Precision = $\\frac{TP}{TP+FP}$\n",
    "\n",
    "**Conclusions of the Model**\n",
    "The model overall has very good values. The model offers very good results. This makes a lot of sense because if we look at it from a human perspective we understand that actually the restaurants that are well rated are the ones that are going to be classified as `top_experience`. The model relies entirely on people's opinions to make the decision. Those restaurants that have a high number of stars share good reviews while those that have a low number of reviews share a low number of reviews. \n",
    "\n",
    "This makes sense because the algorithm analyses the words used and gives them a context. \n",
    "\n",
    "The most important measure here is the **F1 SCORE**: In many applications, it is important to have both high precision and high recall. For example, in this restaurant classification task, a model with high precision (i.e., low false positive rate) is desirable, because it means that the model is not making many false top_experiences, **it assures you that the restaurants will be ``top_experience``**. However, a model with low recall (i.e., low true positive rate) is not acceptable, because it means that the model is missing many cases of top_experience letting the customers have less choices. The model is giving a $92.06\\%$ F1 score. "
   ]
  },
  {
   "cell_type": "code",
   "execution_count": null,
   "id": "c5cd1e6d",
   "metadata": {},
   "outputs": [],
   "source": []
  }
 ],
 "metadata": {
  "kernelspec": {
   "display_name": "practica_0",
   "language": "python",
   "name": "practica_0"
  },
  "language_info": {
   "codemirror_mode": {
    "name": "ipython",
    "version": 3
   },
   "file_extension": ".py",
   "mimetype": "text/x-python",
   "name": "python",
   "nbconvert_exporter": "python",
   "pygments_lexer": "ipython3",
   "version": "3.9.13"
  }
 },
 "nbformat": 4,
 "nbformat_minor": 5
}
